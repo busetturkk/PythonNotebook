{
 "cells": [
  {
   "cell_type": "code",
   "execution_count": 1,
   "metadata": {},
   "outputs": [
    {
     "data": {
      "text/plain": [
       "True"
      ]
     },
     "execution_count": 1,
     "metadata": {},
     "output_type": "execute_result"
    }
   ],
   "source": [
    "3 > 1"
   ]
  },
  {
   "cell_type": "code",
   "execution_count": 6,
   "metadata": {},
   "outputs": [
    {
     "name": "stdout",
     "output_type": "stream",
     "text": [
      "if koşulunun dışına çıktık\n"
     ]
    }
   ],
   "source": [
    "if 3 > 4:\n",
    "    print(\"Atıl Samancıoğlu\")\n",
    "    print(\"if koşulu sağlandı\")\n",
    "print(\"if koşulunun dışına çıktık\")  "
   ]
  },
  {
   "cell_type": "code",
   "execution_count": 22,
   "metadata": {},
   "outputs": [],
   "source": [
    "x = 4"
   ]
  },
  {
   "cell_type": "code",
   "execution_count": 23,
   "metadata": {},
   "outputs": [],
   "source": [
    "y = 4"
   ]
  },
  {
   "cell_type": "code",
   "execution_count": 26,
   "metadata": {},
   "outputs": [
    {
     "name": "stdout",
     "output_type": "stream",
     "text": [
      " y ve x birbirine eşitmiş\n"
     ]
    }
   ],
   "source": [
    "if x >y:\n",
    "    print(\"x , y'den daha büyükmüş\")\n",
    "elif y > x:\n",
    "    print(\"y , x'den daha büyükmüş\")\n",
    "else:\n",
    "    print(\" y ve x birbirine eşitmiş\")"
   ]
  },
  {
   "cell_type": "code",
   "execution_count": 34,
   "metadata": {},
   "outputs": [
    {
     "name": "stdout",
     "output_type": "stream",
     "text": [
      "Super kahraman seçiniz: Aquaman\n"
     ]
    }
   ],
   "source": [
    "benimKahramanim = input(\"Super kahraman seçiniz: \")"
   ]
  },
  {
   "cell_type": "code",
   "execution_count": 35,
   "metadata": {},
   "outputs": [
    {
     "name": "stdout",
     "output_type": "stream",
     "text": [
      "Bu kim gerçekten bilmiyoruz\n"
     ]
    }
   ],
   "source": [
    "if benimKahramanim == \"Batman\":\n",
    "    print(\"Batman'i seçtiniz tebrikler\")\n",
    "elif benimKahramanim == \"Superman\":\n",
    "    print(\"Keşke Batman'i seçseydiniz\")\n",
    "elif benimKahramanim == \"Ironman\":\n",
    "    print(\"Ironman kimdir?\")\n",
    "else :\n",
    "    print(\"Bu kim gerçekten bilmiyoruz\")"
   ]
  },
  {
   "cell_type": "code",
   "execution_count": 48,
   "metadata": {},
   "outputs": [],
   "source": [
    "a = 10\n",
    "b = 20\n",
    "c = 20"
   ]
  },
  {
   "cell_type": "code",
   "execution_count": 49,
   "metadata": {},
   "outputs": [
    {
     "name": "stdout",
     "output_type": "stream",
     "text": [
      "bu koşullar tutmadı\n"
     ]
    }
   ],
   "source": [
    "if a > b and b > c:\n",
    "    print(\"a, b'den büyük VE b de c'den büyük\")\n",
    "elif a < b and b < c:\n",
    "    print(\"a, b'den küçük VE b de c'den küçük\")\n",
    "else:\n",
    "    print(\"bu koşullar tutmadı\")"
   ]
  },
  {
   "cell_type": "code",
   "execution_count": 56,
   "metadata": {},
   "outputs": [],
   "source": [
    "m = 10\n",
    "k = 4\n",
    "l = 5"
   ]
  },
  {
   "cell_type": "code",
   "execution_count": 57,
   "metadata": {},
   "outputs": [
    {
     "name": "stdout",
     "output_type": "stream",
     "text": [
      "bu çalıştırılacak mı?\n"
     ]
    }
   ],
   "source": [
    "if m > k or k > l:\n",
    "    print(\"bu çalıştırılacak mı?\")"
   ]
  },
  {
   "cell_type": "code",
   "execution_count": 72,
   "metadata": {},
   "outputs": [],
   "source": [
    "karakterCanli = False"
   ]
  },
  {
   "cell_type": "code",
   "execution_count": 73,
   "metadata": {},
   "outputs": [
    {
     "name": "stdout",
     "output_type": "stream",
     "text": [
      "oyun karakteriniz yaşamıyor\n"
     ]
    }
   ],
   "source": [
    "if karakterCanli == True:\n",
    "    print(\"oyun karakteriniz yaşıyor\")\n",
    "else:\n",
    "    print(\"oyun karakteriniz yaşamıyor\")"
   ]
  },
  {
   "cell_type": "code",
   "execution_count": 74,
   "metadata": {},
   "outputs": [
    {
     "name": "stdout",
     "output_type": "stream",
     "text": [
      "oyun karakteriniz yaşamıyor\n"
     ]
    }
   ],
   "source": [
    "if karakterCanli:\n",
    "     print(\"oyun karakteriniz yaşıyor\")\n",
    "else:\n",
    "    print(\"oyun karakteriniz yaşamıyor\")"
   ]
  },
  {
   "cell_type": "code",
   "execution_count": 75,
   "metadata": {},
   "outputs": [
    {
     "name": "stdout",
     "output_type": "stream",
     "text": [
      "oyun karakteriniz yaşamıyor\n"
     ]
    }
   ],
   "source": [
    "if not karakterCanli:\n",
    "    print(\"oyun karakteriniz yaşamıyor\")"
   ]
  },
  {
   "cell_type": "code",
   "execution_count": 76,
   "metadata": {},
   "outputs": [],
   "source": [
    "benimString = \"Atıl Samancıoğlu\""
   ]
  },
  {
   "cell_type": "code",
   "execution_count": 80,
   "metadata": {},
   "outputs": [
    {
     "name": "stdout",
     "output_type": "stream",
     "text": [
      "eşitmiş\n"
     ]
    }
   ],
   "source": [
    "if benimString == \"Atıl Samancıoğlu\":\n",
    "    print(\"eşitmiş\")\n",
    "else:\n",
    "    print(\"eşit değilmiş\")"
   ]
  },
  {
   "cell_type": "code",
   "execution_count": 83,
   "metadata": {},
   "outputs": [
    {
     "name": "stdout",
     "output_type": "stream",
     "text": [
      "varmış\n"
     ]
    }
   ],
   "source": [
    "if \"Samancıoğlu\" in benimString:\n",
    "    print(\"varmış\")\n",
    "else:\n",
    "    print(\"yokmuş\")"
   ]
  },
  {
   "cell_type": "code",
   "execution_count": 84,
   "metadata": {},
   "outputs": [],
   "source": [
    "benimListem = [10,20,30,40,50]"
   ]
  },
  {
   "cell_type": "code",
   "execution_count": 86,
   "metadata": {},
   "outputs": [],
   "source": [
    "if 60 in benimListem:\n",
    "    print(\"evet var\")"
   ]
  },
  {
   "cell_type": "code",
   "execution_count": 87,
   "metadata": {},
   "outputs": [],
   "source": [
    "benimSozluk = {\"armut\":100, \"elma\":150, \"karpuz\":500}"
   ]
  },
  {
   "cell_type": "code",
   "execution_count": 97,
   "metadata": {},
   "outputs": [
    {
     "name": "stdout",
     "output_type": "stream",
     "text": [
      "varmış\n"
     ]
    }
   ],
   "source": [
    "if \"armut\" in benimSozluk.keys():\n",
    "    print(\"varmış\")"
   ]
  },
  {
   "cell_type": "code",
   "execution_count": 98,
   "metadata": {},
   "outputs": [
    {
     "name": "stdout",
     "output_type": "stream",
     "text": [
      "evet\n"
     ]
    }
   ],
   "source": [
    "if 500 in benimSozluk.values():\n",
    "    print(\"evet\")"
   ]
  },
  {
   "cell_type": "code",
   "execution_count": 99,
   "metadata": {},
   "outputs": [
    {
     "name": "stdout",
     "output_type": "stream",
     "text": [
      "evet varmış\n"
     ]
    }
   ],
   "source": [
    "if \"elma\" in benimSozluk:\n",
    "    print(\"evet varmış\")"
   ]
  }
 ],
 "metadata": {
  "kernelspec": {
   "display_name": "Python 3",
   "language": "python",
   "name": "python3"
  },
  "language_info": {
   "codemirror_mode": {
    "name": "ipython",
    "version": 3
   },
   "file_extension": ".py",
   "mimetype": "text/x-python",
   "name": "python",
   "nbconvert_exporter": "python",
   "pygments_lexer": "ipython3",
   "version": "3.8.3"
  }
 },
 "nbformat": 4,
 "nbformat_minor": 4
}
