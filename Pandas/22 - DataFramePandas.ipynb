{
 "cells": [
  {
   "cell_type": "code",
   "execution_count": 1,
   "metadata": {},
   "outputs": [],
   "source": [
    "import pandas as pd\n",
    "import numpy as np"
   ]
  },
  {
   "cell_type": "code",
   "execution_count": 2,
   "metadata": {},
   "outputs": [
    {
     "data": {
      "text/plain": [
       "array([[ 0.46087517, -0.28087802,  1.47235399],\n",
       "       [-1.34361777, -0.5277408 ,  0.7241264 ],\n",
       "       [ 0.59315707, -1.63004448, -0.35657905],\n",
       "       [-0.29989457,  0.33272047,  1.16120138]])"
      ]
     },
     "execution_count": 2,
     "metadata": {},
     "output_type": "execute_result"
    }
   ],
   "source": [
    "data = np.random.randn(4,3)\n",
    "data"
   ]
  },
  {
   "cell_type": "code",
   "execution_count": 3,
   "metadata": {},
   "outputs": [
    {
     "data": {
      "text/plain": [
       "array([[ 0.46087517, -0.28087802,  1.47235399],\n",
       "       [-1.34361777, -0.5277408 ,  0.7241264 ],\n",
       "       [ 0.59315707, -1.63004448, -0.35657905],\n",
       "       [-0.29989457,  0.33272047,  1.16120138]])"
      ]
     },
     "execution_count": 3,
     "metadata": {},
     "output_type": "execute_result"
    }
   ],
   "source": [
    "data"
   ]
  },
  {
   "cell_type": "code",
   "execution_count": 4,
   "metadata": {},
   "outputs": [],
   "source": [
    "dataFrame = pd.DataFrame(data)"
   ]
  },
  {
   "cell_type": "code",
   "execution_count": 5,
   "metadata": {},
   "outputs": [
    {
     "data": {
      "text/html": [
       "<div>\n",
       "<style scoped>\n",
       "    .dataframe tbody tr th:only-of-type {\n",
       "        vertical-align: middle;\n",
       "    }\n",
       "\n",
       "    .dataframe tbody tr th {\n",
       "        vertical-align: top;\n",
       "    }\n",
       "\n",
       "    .dataframe thead th {\n",
       "        text-align: right;\n",
       "    }\n",
       "</style>\n",
       "<table border=\"1\" class=\"dataframe\">\n",
       "  <thead>\n",
       "    <tr style=\"text-align: right;\">\n",
       "      <th></th>\n",
       "      <th>0</th>\n",
       "      <th>1</th>\n",
       "      <th>2</th>\n",
       "    </tr>\n",
       "  </thead>\n",
       "  <tbody>\n",
       "    <tr>\n",
       "      <th>0</th>\n",
       "      <td>0.460875</td>\n",
       "      <td>-0.280878</td>\n",
       "      <td>1.472354</td>\n",
       "    </tr>\n",
       "    <tr>\n",
       "      <th>1</th>\n",
       "      <td>-1.343618</td>\n",
       "      <td>-0.527741</td>\n",
       "      <td>0.724126</td>\n",
       "    </tr>\n",
       "    <tr>\n",
       "      <th>2</th>\n",
       "      <td>0.593157</td>\n",
       "      <td>-1.630044</td>\n",
       "      <td>-0.356579</td>\n",
       "    </tr>\n",
       "    <tr>\n",
       "      <th>3</th>\n",
       "      <td>-0.299895</td>\n",
       "      <td>0.332720</td>\n",
       "      <td>1.161201</td>\n",
       "    </tr>\n",
       "  </tbody>\n",
       "</table>\n",
       "</div>"
      ],
      "text/plain": [
       "          0         1         2\n",
       "0  0.460875 -0.280878  1.472354\n",
       "1 -1.343618 -0.527741  0.724126\n",
       "2  0.593157 -1.630044 -0.356579\n",
       "3 -0.299895  0.332720  1.161201"
      ]
     },
     "execution_count": 5,
     "metadata": {},
     "output_type": "execute_result"
    }
   ],
   "source": [
    "dataFrame"
   ]
  },
  {
   "cell_type": "code",
   "execution_count": 6,
   "metadata": {},
   "outputs": [],
   "source": [
    "newDataFrame = pd.DataFrame(data, index = [\"Zeynep\",\"Büşra\",\"Ali\",\"Mehmet\"], columns=[\"Maas\",\"Yas\",\"Calisma Saati\"])"
   ]
  },
  {
   "cell_type": "code",
   "execution_count": 7,
   "metadata": {},
   "outputs": [
    {
     "data": {
      "text/html": [
       "<div>\n",
       "<style scoped>\n",
       "    .dataframe tbody tr th:only-of-type {\n",
       "        vertical-align: middle;\n",
       "    }\n",
       "\n",
       "    .dataframe tbody tr th {\n",
       "        vertical-align: top;\n",
       "    }\n",
       "\n",
       "    .dataframe thead th {\n",
       "        text-align: right;\n",
       "    }\n",
       "</style>\n",
       "<table border=\"1\" class=\"dataframe\">\n",
       "  <thead>\n",
       "    <tr style=\"text-align: right;\">\n",
       "      <th></th>\n",
       "      <th>Maas</th>\n",
       "      <th>Yas</th>\n",
       "      <th>Calisma Saati</th>\n",
       "    </tr>\n",
       "  </thead>\n",
       "  <tbody>\n",
       "    <tr>\n",
       "      <th>Zeynep</th>\n",
       "      <td>0.460875</td>\n",
       "      <td>-0.280878</td>\n",
       "      <td>1.472354</td>\n",
       "    </tr>\n",
       "    <tr>\n",
       "      <th>Büşra</th>\n",
       "      <td>-1.343618</td>\n",
       "      <td>-0.527741</td>\n",
       "      <td>0.724126</td>\n",
       "    </tr>\n",
       "    <tr>\n",
       "      <th>Ali</th>\n",
       "      <td>0.593157</td>\n",
       "      <td>-1.630044</td>\n",
       "      <td>-0.356579</td>\n",
       "    </tr>\n",
       "    <tr>\n",
       "      <th>Mehmet</th>\n",
       "      <td>-0.299895</td>\n",
       "      <td>0.332720</td>\n",
       "      <td>1.161201</td>\n",
       "    </tr>\n",
       "  </tbody>\n",
       "</table>\n",
       "</div>"
      ],
      "text/plain": [
       "            Maas       Yas  Calisma Saati\n",
       "Zeynep  0.460875 -0.280878       1.472354\n",
       "Büşra  -1.343618 -0.527741       0.724126\n",
       "Ali     0.593157 -1.630044      -0.356579\n",
       "Mehmet -0.299895  0.332720       1.161201"
      ]
     },
     "execution_count": 7,
     "metadata": {},
     "output_type": "execute_result"
    }
   ],
   "source": [
    "newDataFrame"
   ]
  },
  {
   "cell_type": "code",
   "execution_count": 8,
   "metadata": {},
   "outputs": [
    {
     "data": {
      "text/plain": [
       "Zeynep   -0.280878\n",
       "Büşra    -0.527741\n",
       "Ali      -1.630044\n",
       "Mehmet    0.332720\n",
       "Name: Yas, dtype: float64"
      ]
     },
     "execution_count": 8,
     "metadata": {},
     "output_type": "execute_result"
    }
   ],
   "source": [
    "newDataFrame[\"Yas\"]"
   ]
  },
  {
   "cell_type": "code",
   "execution_count": 9,
   "metadata": {},
   "outputs": [
    {
     "data": {
      "text/plain": [
       "Zeynep    1.472354\n",
       "Büşra     0.724126\n",
       "Ali      -0.356579\n",
       "Mehmet    1.161201\n",
       "Name: Calisma Saati, dtype: float64"
      ]
     },
     "execution_count": 9,
     "metadata": {},
     "output_type": "execute_result"
    }
   ],
   "source": [
    "newDataFrame[\"Calisma Saati\"]"
   ]
  },
  {
   "cell_type": "code",
   "execution_count": 10,
   "metadata": {},
   "outputs": [
    {
     "data": {
      "text/html": [
       "<div>\n",
       "<style scoped>\n",
       "    .dataframe tbody tr th:only-of-type {\n",
       "        vertical-align: middle;\n",
       "    }\n",
       "\n",
       "    .dataframe tbody tr th {\n",
       "        vertical-align: top;\n",
       "    }\n",
       "\n",
       "    .dataframe thead th {\n",
       "        text-align: right;\n",
       "    }\n",
       "</style>\n",
       "<table border=\"1\" class=\"dataframe\">\n",
       "  <thead>\n",
       "    <tr style=\"text-align: right;\">\n",
       "      <th></th>\n",
       "      <th>Maas</th>\n",
       "      <th>Yas</th>\n",
       "    </tr>\n",
       "  </thead>\n",
       "  <tbody>\n",
       "    <tr>\n",
       "      <th>Zeynep</th>\n",
       "      <td>0.460875</td>\n",
       "      <td>-0.280878</td>\n",
       "    </tr>\n",
       "    <tr>\n",
       "      <th>Büşra</th>\n",
       "      <td>-1.343618</td>\n",
       "      <td>-0.527741</td>\n",
       "    </tr>\n",
       "    <tr>\n",
       "      <th>Ali</th>\n",
       "      <td>0.593157</td>\n",
       "      <td>-1.630044</td>\n",
       "    </tr>\n",
       "    <tr>\n",
       "      <th>Mehmet</th>\n",
       "      <td>-0.299895</td>\n",
       "      <td>0.332720</td>\n",
       "    </tr>\n",
       "  </tbody>\n",
       "</table>\n",
       "</div>"
      ],
      "text/plain": [
       "            Maas       Yas\n",
       "Zeynep  0.460875 -0.280878\n",
       "Büşra  -1.343618 -0.527741\n",
       "Ali     0.593157 -1.630044\n",
       "Mehmet -0.299895  0.332720"
      ]
     },
     "execution_count": 10,
     "metadata": {},
     "output_type": "execute_result"
    }
   ],
   "source": [
    "newDataFrame[[\"Maas\",\"Yas\"]]"
   ]
  },
  {
   "cell_type": "code",
   "execution_count": 11,
   "metadata": {},
   "outputs": [
    {
     "data": {
      "text/plain": [
       "Maas            -0.299895\n",
       "Yas              0.332720\n",
       "Calisma Saati    1.161201\n",
       "Name: Mehmet, dtype: float64"
      ]
     },
     "execution_count": 11,
     "metadata": {},
     "output_type": "execute_result"
    }
   ],
   "source": [
    "newDataFrame.loc[\"Mehmet\"]"
   ]
  },
  {
   "cell_type": "code",
   "execution_count": 12,
   "metadata": {},
   "outputs": [
    {
     "data": {
      "text/plain": [
       "Maas            -1.343618\n",
       "Yas             -0.527741\n",
       "Calisma Saati    0.724126\n",
       "Name: Büşra, dtype: float64"
      ]
     },
     "execution_count": 12,
     "metadata": {},
     "output_type": "execute_result"
    }
   ],
   "source": [
    "newDataFrame.loc[\"Büşra\"]"
   ]
  },
  {
   "cell_type": "code",
   "execution_count": 13,
   "metadata": {},
   "outputs": [
    {
     "data": {
      "text/plain": [
       "Maas            -1.343618\n",
       "Yas             -0.527741\n",
       "Calisma Saati    0.724126\n",
       "Name: Büşra, dtype: float64"
      ]
     },
     "execution_count": 13,
     "metadata": {},
     "output_type": "execute_result"
    }
   ],
   "source": [
    "newDataFrame.iloc[1]"
   ]
  },
  {
   "cell_type": "code",
   "execution_count": 14,
   "metadata": {},
   "outputs": [
    {
     "data": {
      "text/html": [
       "<div>\n",
       "<style scoped>\n",
       "    .dataframe tbody tr th:only-of-type {\n",
       "        vertical-align: middle;\n",
       "    }\n",
       "\n",
       "    .dataframe tbody tr th {\n",
       "        vertical-align: top;\n",
       "    }\n",
       "\n",
       "    .dataframe thead th {\n",
       "        text-align: right;\n",
       "    }\n",
       "</style>\n",
       "<table border=\"1\" class=\"dataframe\">\n",
       "  <thead>\n",
       "    <tr style=\"text-align: right;\">\n",
       "      <th></th>\n",
       "      <th>Maas</th>\n",
       "      <th>Yas</th>\n",
       "      <th>Calisma Saati</th>\n",
       "    </tr>\n",
       "  </thead>\n",
       "  <tbody>\n",
       "    <tr>\n",
       "      <th>Zeynep</th>\n",
       "      <td>0.460875</td>\n",
       "      <td>-0.280878</td>\n",
       "      <td>1.472354</td>\n",
       "    </tr>\n",
       "    <tr>\n",
       "      <th>Büşra</th>\n",
       "      <td>-1.343618</td>\n",
       "      <td>-0.527741</td>\n",
       "      <td>0.724126</td>\n",
       "    </tr>\n",
       "    <tr>\n",
       "      <th>Ali</th>\n",
       "      <td>0.593157</td>\n",
       "      <td>-1.630044</td>\n",
       "      <td>-0.356579</td>\n",
       "    </tr>\n",
       "    <tr>\n",
       "      <th>Mehmet</th>\n",
       "      <td>-0.299895</td>\n",
       "      <td>0.332720</td>\n",
       "      <td>1.161201</td>\n",
       "    </tr>\n",
       "  </tbody>\n",
       "</table>\n",
       "</div>"
      ],
      "text/plain": [
       "            Maas       Yas  Calisma Saati\n",
       "Zeynep  0.460875 -0.280878       1.472354\n",
       "Büşra  -1.343618 -0.527741       0.724126\n",
       "Ali     0.593157 -1.630044      -0.356579\n",
       "Mehmet -0.299895  0.332720       1.161201"
      ]
     },
     "execution_count": 14,
     "metadata": {},
     "output_type": "execute_result"
    }
   ],
   "source": [
    "newDataFrame"
   ]
  },
  {
   "cell_type": "code",
   "execution_count": 15,
   "metadata": {},
   "outputs": [
    {
     "data": {
      "text/plain": [
       "Zeynep    0.460875\n",
       "Büşra    -1.343618\n",
       "Ali       0.593157\n",
       "Mehmet   -0.299895\n",
       "Name: Maas, dtype: float64"
      ]
     },
     "execution_count": 15,
     "metadata": {},
     "output_type": "execute_result"
    }
   ],
   "source": [
    "newDataFrame[\"Maas\"]"
   ]
  },
  {
   "cell_type": "code",
   "execution_count": 16,
   "metadata": {},
   "outputs": [],
   "source": [
    "newDataFrame[\"Emeklilik Yasi\"] = newDataFrame[\"Yas\"]+ newDataFrame[\"Yas\"]"
   ]
  },
  {
   "cell_type": "code",
   "execution_count": 17,
   "metadata": {},
   "outputs": [
    {
     "data": {
      "text/html": [
       "<div>\n",
       "<style scoped>\n",
       "    .dataframe tbody tr th:only-of-type {\n",
       "        vertical-align: middle;\n",
       "    }\n",
       "\n",
       "    .dataframe tbody tr th {\n",
       "        vertical-align: top;\n",
       "    }\n",
       "\n",
       "    .dataframe thead th {\n",
       "        text-align: right;\n",
       "    }\n",
       "</style>\n",
       "<table border=\"1\" class=\"dataframe\">\n",
       "  <thead>\n",
       "    <tr style=\"text-align: right;\">\n",
       "      <th></th>\n",
       "      <th>Maas</th>\n",
       "      <th>Yas</th>\n",
       "      <th>Calisma Saati</th>\n",
       "      <th>Emeklilik Yasi</th>\n",
       "    </tr>\n",
       "  </thead>\n",
       "  <tbody>\n",
       "    <tr>\n",
       "      <th>Zeynep</th>\n",
       "      <td>0.460875</td>\n",
       "      <td>-0.280878</td>\n",
       "      <td>1.472354</td>\n",
       "      <td>-0.561756</td>\n",
       "    </tr>\n",
       "    <tr>\n",
       "      <th>Büşra</th>\n",
       "      <td>-1.343618</td>\n",
       "      <td>-0.527741</td>\n",
       "      <td>0.724126</td>\n",
       "      <td>-1.055482</td>\n",
       "    </tr>\n",
       "    <tr>\n",
       "      <th>Ali</th>\n",
       "      <td>0.593157</td>\n",
       "      <td>-1.630044</td>\n",
       "      <td>-0.356579</td>\n",
       "      <td>-3.260089</td>\n",
       "    </tr>\n",
       "    <tr>\n",
       "      <th>Mehmet</th>\n",
       "      <td>-0.299895</td>\n",
       "      <td>0.332720</td>\n",
       "      <td>1.161201</td>\n",
       "      <td>0.665441</td>\n",
       "    </tr>\n",
       "  </tbody>\n",
       "</table>\n",
       "</div>"
      ],
      "text/plain": [
       "            Maas       Yas  Calisma Saati  Emeklilik Yasi\n",
       "Zeynep  0.460875 -0.280878       1.472354       -0.561756\n",
       "Büşra  -1.343618 -0.527741       0.724126       -1.055482\n",
       "Ali     0.593157 -1.630044      -0.356579       -3.260089\n",
       "Mehmet -0.299895  0.332720       1.161201        0.665441"
      ]
     },
     "execution_count": 17,
     "metadata": {},
     "output_type": "execute_result"
    }
   ],
   "source": [
    "newDataFrame"
   ]
  },
  {
   "cell_type": "code",
   "execution_count": 18,
   "metadata": {},
   "outputs": [
    {
     "data": {
      "text/html": [
       "<div>\n",
       "<style scoped>\n",
       "    .dataframe tbody tr th:only-of-type {\n",
       "        vertical-align: middle;\n",
       "    }\n",
       "\n",
       "    .dataframe tbody tr th {\n",
       "        vertical-align: top;\n",
       "    }\n",
       "\n",
       "    .dataframe thead th {\n",
       "        text-align: right;\n",
       "    }\n",
       "</style>\n",
       "<table border=\"1\" class=\"dataframe\">\n",
       "  <thead>\n",
       "    <tr style=\"text-align: right;\">\n",
       "      <th></th>\n",
       "      <th>Maas</th>\n",
       "      <th>Yas</th>\n",
       "      <th>Calisma Saati</th>\n",
       "    </tr>\n",
       "  </thead>\n",
       "  <tbody>\n",
       "    <tr>\n",
       "      <th>Zeynep</th>\n",
       "      <td>0.460875</td>\n",
       "      <td>-0.280878</td>\n",
       "      <td>1.472354</td>\n",
       "    </tr>\n",
       "    <tr>\n",
       "      <th>Büşra</th>\n",
       "      <td>-1.343618</td>\n",
       "      <td>-0.527741</td>\n",
       "      <td>0.724126</td>\n",
       "    </tr>\n",
       "    <tr>\n",
       "      <th>Ali</th>\n",
       "      <td>0.593157</td>\n",
       "      <td>-1.630044</td>\n",
       "      <td>-0.356579</td>\n",
       "    </tr>\n",
       "    <tr>\n",
       "      <th>Mehmet</th>\n",
       "      <td>-0.299895</td>\n",
       "      <td>0.332720</td>\n",
       "      <td>1.161201</td>\n",
       "    </tr>\n",
       "  </tbody>\n",
       "</table>\n",
       "</div>"
      ],
      "text/plain": [
       "            Maas       Yas  Calisma Saati\n",
       "Zeynep  0.460875 -0.280878       1.472354\n",
       "Büşra  -1.343618 -0.527741       0.724126\n",
       "Ali     0.593157 -1.630044      -0.356579\n",
       "Mehmet -0.299895  0.332720       1.161201"
      ]
     },
     "execution_count": 18,
     "metadata": {},
     "output_type": "execute_result"
    }
   ],
   "source": [
    "newDataFrame.drop(\"Emeklilik Yasi\", axis = 1)"
   ]
  },
  {
   "cell_type": "code",
   "execution_count": 19,
   "metadata": {},
   "outputs": [
    {
     "data": {
      "text/html": [
       "<div>\n",
       "<style scoped>\n",
       "    .dataframe tbody tr th:only-of-type {\n",
       "        vertical-align: middle;\n",
       "    }\n",
       "\n",
       "    .dataframe tbody tr th {\n",
       "        vertical-align: top;\n",
       "    }\n",
       "\n",
       "    .dataframe thead th {\n",
       "        text-align: right;\n",
       "    }\n",
       "</style>\n",
       "<table border=\"1\" class=\"dataframe\">\n",
       "  <thead>\n",
       "    <tr style=\"text-align: right;\">\n",
       "      <th></th>\n",
       "      <th>Maas</th>\n",
       "      <th>Yas</th>\n",
       "      <th>Calisma Saati</th>\n",
       "      <th>Emeklilik Yasi</th>\n",
       "    </tr>\n",
       "  </thead>\n",
       "  <tbody>\n",
       "    <tr>\n",
       "      <th>Zeynep</th>\n",
       "      <td>0.460875</td>\n",
       "      <td>-0.280878</td>\n",
       "      <td>1.472354</td>\n",
       "      <td>-0.561756</td>\n",
       "    </tr>\n",
       "    <tr>\n",
       "      <th>Büşra</th>\n",
       "      <td>-1.343618</td>\n",
       "      <td>-0.527741</td>\n",
       "      <td>0.724126</td>\n",
       "      <td>-1.055482</td>\n",
       "    </tr>\n",
       "    <tr>\n",
       "      <th>Ali</th>\n",
       "      <td>0.593157</td>\n",
       "      <td>-1.630044</td>\n",
       "      <td>-0.356579</td>\n",
       "      <td>-3.260089</td>\n",
       "    </tr>\n",
       "  </tbody>\n",
       "</table>\n",
       "</div>"
      ],
      "text/plain": [
       "            Maas       Yas  Calisma Saati  Emeklilik Yasi\n",
       "Zeynep  0.460875 -0.280878       1.472354       -0.561756\n",
       "Büşra  -1.343618 -0.527741       0.724126       -1.055482\n",
       "Ali     0.593157 -1.630044      -0.356579       -3.260089"
      ]
     },
     "execution_count": 19,
     "metadata": {},
     "output_type": "execute_result"
    }
   ],
   "source": [
    "newDataFrame.drop(\"Mehmet\" , axis = 0)"
   ]
  },
  {
   "cell_type": "code",
   "execution_count": 20,
   "metadata": {},
   "outputs": [
    {
     "data": {
      "text/html": [
       "<div>\n",
       "<style scoped>\n",
       "    .dataframe tbody tr th:only-of-type {\n",
       "        vertical-align: middle;\n",
       "    }\n",
       "\n",
       "    .dataframe tbody tr th {\n",
       "        vertical-align: top;\n",
       "    }\n",
       "\n",
       "    .dataframe thead th {\n",
       "        text-align: right;\n",
       "    }\n",
       "</style>\n",
       "<table border=\"1\" class=\"dataframe\">\n",
       "  <thead>\n",
       "    <tr style=\"text-align: right;\">\n",
       "      <th></th>\n",
       "      <th>Maas</th>\n",
       "      <th>Yas</th>\n",
       "      <th>Calisma Saati</th>\n",
       "      <th>Emeklilik Yasi</th>\n",
       "    </tr>\n",
       "  </thead>\n",
       "  <tbody>\n",
       "    <tr>\n",
       "      <th>Zeynep</th>\n",
       "      <td>0.460875</td>\n",
       "      <td>-0.280878</td>\n",
       "      <td>1.472354</td>\n",
       "      <td>-0.561756</td>\n",
       "    </tr>\n",
       "    <tr>\n",
       "      <th>Büşra</th>\n",
       "      <td>-1.343618</td>\n",
       "      <td>-0.527741</td>\n",
       "      <td>0.724126</td>\n",
       "      <td>-1.055482</td>\n",
       "    </tr>\n",
       "    <tr>\n",
       "      <th>Ali</th>\n",
       "      <td>0.593157</td>\n",
       "      <td>-1.630044</td>\n",
       "      <td>-0.356579</td>\n",
       "      <td>-3.260089</td>\n",
       "    </tr>\n",
       "    <tr>\n",
       "      <th>Mehmet</th>\n",
       "      <td>-0.299895</td>\n",
       "      <td>0.332720</td>\n",
       "      <td>1.161201</td>\n",
       "      <td>0.665441</td>\n",
       "    </tr>\n",
       "  </tbody>\n",
       "</table>\n",
       "</div>"
      ],
      "text/plain": [
       "            Maas       Yas  Calisma Saati  Emeklilik Yasi\n",
       "Zeynep  0.460875 -0.280878       1.472354       -0.561756\n",
       "Büşra  -1.343618 -0.527741       0.724126       -1.055482\n",
       "Ali     0.593157 -1.630044      -0.356579       -3.260089\n",
       "Mehmet -0.299895  0.332720       1.161201        0.665441"
      ]
     },
     "execution_count": 20,
     "metadata": {},
     "output_type": "execute_result"
    }
   ],
   "source": [
    "newDataFrame"
   ]
  },
  {
   "cell_type": "code",
   "execution_count": 21,
   "metadata": {},
   "outputs": [],
   "source": [
    "newDataFrame.drop(\"Emeklilik Yasi\", axis = 1, inplace = True)"
   ]
  },
  {
   "cell_type": "code",
   "execution_count": 22,
   "metadata": {},
   "outputs": [
    {
     "data": {
      "text/html": [
       "<div>\n",
       "<style scoped>\n",
       "    .dataframe tbody tr th:only-of-type {\n",
       "        vertical-align: middle;\n",
       "    }\n",
       "\n",
       "    .dataframe tbody tr th {\n",
       "        vertical-align: top;\n",
       "    }\n",
       "\n",
       "    .dataframe thead th {\n",
       "        text-align: right;\n",
       "    }\n",
       "</style>\n",
       "<table border=\"1\" class=\"dataframe\">\n",
       "  <thead>\n",
       "    <tr style=\"text-align: right;\">\n",
       "      <th></th>\n",
       "      <th>Maas</th>\n",
       "      <th>Yas</th>\n",
       "      <th>Calisma Saati</th>\n",
       "    </tr>\n",
       "  </thead>\n",
       "  <tbody>\n",
       "    <tr>\n",
       "      <th>Zeynep</th>\n",
       "      <td>0.460875</td>\n",
       "      <td>-0.280878</td>\n",
       "      <td>1.472354</td>\n",
       "    </tr>\n",
       "    <tr>\n",
       "      <th>Büşra</th>\n",
       "      <td>-1.343618</td>\n",
       "      <td>-0.527741</td>\n",
       "      <td>0.724126</td>\n",
       "    </tr>\n",
       "    <tr>\n",
       "      <th>Ali</th>\n",
       "      <td>0.593157</td>\n",
       "      <td>-1.630044</td>\n",
       "      <td>-0.356579</td>\n",
       "    </tr>\n",
       "    <tr>\n",
       "      <th>Mehmet</th>\n",
       "      <td>-0.299895</td>\n",
       "      <td>0.332720</td>\n",
       "      <td>1.161201</td>\n",
       "    </tr>\n",
       "  </tbody>\n",
       "</table>\n",
       "</div>"
      ],
      "text/plain": [
       "            Maas       Yas  Calisma Saati\n",
       "Zeynep  0.460875 -0.280878       1.472354\n",
       "Büşra  -1.343618 -0.527741       0.724126\n",
       "Ali     0.593157 -1.630044      -0.356579\n",
       "Mehmet -0.299895  0.332720       1.161201"
      ]
     },
     "execution_count": 22,
     "metadata": {},
     "output_type": "execute_result"
    }
   ],
   "source": [
    "newDataFrame"
   ]
  },
  {
   "cell_type": "code",
   "execution_count": 23,
   "metadata": {},
   "outputs": [
    {
     "data": {
      "text/plain": [
       "1.4723539862824886"
      ]
     },
     "execution_count": 23,
     "metadata": {},
     "output_type": "execute_result"
    }
   ],
   "source": [
    "newDataFrame.loc[\"Zeynep\"][\"Calisma Saati\"]"
   ]
  },
  {
   "cell_type": "code",
   "execution_count": 24,
   "metadata": {},
   "outputs": [
    {
     "data": {
      "text/plain": [
       "-0.2808780172006819"
      ]
     },
     "execution_count": 24,
     "metadata": {},
     "output_type": "execute_result"
    }
   ],
   "source": [
    "newDataFrame.loc[\"Zeynep\",\"Yas\"]"
   ]
  },
  {
   "cell_type": "code",
   "execution_count": 25,
   "metadata": {},
   "outputs": [
    {
     "data": {
      "text/html": [
       "<div>\n",
       "<style scoped>\n",
       "    .dataframe tbody tr th:only-of-type {\n",
       "        vertical-align: middle;\n",
       "    }\n",
       "\n",
       "    .dataframe tbody tr th {\n",
       "        vertical-align: top;\n",
       "    }\n",
       "\n",
       "    .dataframe thead th {\n",
       "        text-align: right;\n",
       "    }\n",
       "</style>\n",
       "<table border=\"1\" class=\"dataframe\">\n",
       "  <thead>\n",
       "    <tr style=\"text-align: right;\">\n",
       "      <th></th>\n",
       "      <th>Maas</th>\n",
       "      <th>Yas</th>\n",
       "      <th>Calisma Saati</th>\n",
       "    </tr>\n",
       "  </thead>\n",
       "  <tbody>\n",
       "    <tr>\n",
       "      <th>Zeynep</th>\n",
       "      <td>False</td>\n",
       "      <td>True</td>\n",
       "      <td>False</td>\n",
       "    </tr>\n",
       "    <tr>\n",
       "      <th>Büşra</th>\n",
       "      <td>True</td>\n",
       "      <td>True</td>\n",
       "      <td>False</td>\n",
       "    </tr>\n",
       "    <tr>\n",
       "      <th>Ali</th>\n",
       "      <td>False</td>\n",
       "      <td>True</td>\n",
       "      <td>True</td>\n",
       "    </tr>\n",
       "    <tr>\n",
       "      <th>Mehmet</th>\n",
       "      <td>True</td>\n",
       "      <td>False</td>\n",
       "      <td>False</td>\n",
       "    </tr>\n",
       "  </tbody>\n",
       "</table>\n",
       "</div>"
      ],
      "text/plain": [
       "         Maas    Yas  Calisma Saati\n",
       "Zeynep  False   True          False\n",
       "Büşra    True   True          False\n",
       "Ali     False   True           True\n",
       "Mehmet   True  False          False"
      ]
     },
     "execution_count": 25,
     "metadata": {},
     "output_type": "execute_result"
    }
   ],
   "source": [
    "newDataFrame < 0"
   ]
  },
  {
   "cell_type": "code",
   "execution_count": 26,
   "metadata": {},
   "outputs": [],
   "source": [
    "booleanFrame = newDataFrame < 0"
   ]
  },
  {
   "cell_type": "code",
   "execution_count": 27,
   "metadata": {},
   "outputs": [
    {
     "data": {
      "text/html": [
       "<div>\n",
       "<style scoped>\n",
       "    .dataframe tbody tr th:only-of-type {\n",
       "        vertical-align: middle;\n",
       "    }\n",
       "\n",
       "    .dataframe tbody tr th {\n",
       "        vertical-align: top;\n",
       "    }\n",
       "\n",
       "    .dataframe thead th {\n",
       "        text-align: right;\n",
       "    }\n",
       "</style>\n",
       "<table border=\"1\" class=\"dataframe\">\n",
       "  <thead>\n",
       "    <tr style=\"text-align: right;\">\n",
       "      <th></th>\n",
       "      <th>Maas</th>\n",
       "      <th>Yas</th>\n",
       "      <th>Calisma Saati</th>\n",
       "    </tr>\n",
       "  </thead>\n",
       "  <tbody>\n",
       "    <tr>\n",
       "      <th>Zeynep</th>\n",
       "      <td>False</td>\n",
       "      <td>True</td>\n",
       "      <td>False</td>\n",
       "    </tr>\n",
       "    <tr>\n",
       "      <th>Büşra</th>\n",
       "      <td>True</td>\n",
       "      <td>True</td>\n",
       "      <td>False</td>\n",
       "    </tr>\n",
       "    <tr>\n",
       "      <th>Ali</th>\n",
       "      <td>False</td>\n",
       "      <td>True</td>\n",
       "      <td>True</td>\n",
       "    </tr>\n",
       "    <tr>\n",
       "      <th>Mehmet</th>\n",
       "      <td>True</td>\n",
       "      <td>False</td>\n",
       "      <td>False</td>\n",
       "    </tr>\n",
       "  </tbody>\n",
       "</table>\n",
       "</div>"
      ],
      "text/plain": [
       "         Maas    Yas  Calisma Saati\n",
       "Zeynep  False   True          False\n",
       "Büşra    True   True          False\n",
       "Ali     False   True           True\n",
       "Mehmet   True  False          False"
      ]
     },
     "execution_count": 27,
     "metadata": {},
     "output_type": "execute_result"
    }
   ],
   "source": [
    "booleanFrame"
   ]
  },
  {
   "cell_type": "code",
   "execution_count": 28,
   "metadata": {},
   "outputs": [
    {
     "data": {
      "text/html": [
       "<div>\n",
       "<style scoped>\n",
       "    .dataframe tbody tr th:only-of-type {\n",
       "        vertical-align: middle;\n",
       "    }\n",
       "\n",
       "    .dataframe tbody tr th {\n",
       "        vertical-align: top;\n",
       "    }\n",
       "\n",
       "    .dataframe thead th {\n",
       "        text-align: right;\n",
       "    }\n",
       "</style>\n",
       "<table border=\"1\" class=\"dataframe\">\n",
       "  <thead>\n",
       "    <tr style=\"text-align: right;\">\n",
       "      <th></th>\n",
       "      <th>Maas</th>\n",
       "      <th>Yas</th>\n",
       "      <th>Calisma Saati</th>\n",
       "    </tr>\n",
       "  </thead>\n",
       "  <tbody>\n",
       "    <tr>\n",
       "      <th>Zeynep</th>\n",
       "      <td>0.460875</td>\n",
       "      <td>-0.280878</td>\n",
       "      <td>1.472354</td>\n",
       "    </tr>\n",
       "    <tr>\n",
       "      <th>Büşra</th>\n",
       "      <td>-1.343618</td>\n",
       "      <td>-0.527741</td>\n",
       "      <td>0.724126</td>\n",
       "    </tr>\n",
       "    <tr>\n",
       "      <th>Ali</th>\n",
       "      <td>0.593157</td>\n",
       "      <td>-1.630044</td>\n",
       "      <td>-0.356579</td>\n",
       "    </tr>\n",
       "    <tr>\n",
       "      <th>Mehmet</th>\n",
       "      <td>-0.299895</td>\n",
       "      <td>0.332720</td>\n",
       "      <td>1.161201</td>\n",
       "    </tr>\n",
       "  </tbody>\n",
       "</table>\n",
       "</div>"
      ],
      "text/plain": [
       "            Maas       Yas  Calisma Saati\n",
       "Zeynep  0.460875 -0.280878       1.472354\n",
       "Büşra  -1.343618 -0.527741       0.724126\n",
       "Ali     0.593157 -1.630044      -0.356579\n",
       "Mehmet -0.299895  0.332720       1.161201"
      ]
     },
     "execution_count": 28,
     "metadata": {},
     "output_type": "execute_result"
    }
   ],
   "source": [
    "newDataFrame"
   ]
  },
  {
   "cell_type": "code",
   "execution_count": 29,
   "metadata": {},
   "outputs": [
    {
     "data": {
      "text/html": [
       "<div>\n",
       "<style scoped>\n",
       "    .dataframe tbody tr th:only-of-type {\n",
       "        vertical-align: middle;\n",
       "    }\n",
       "\n",
       "    .dataframe tbody tr th {\n",
       "        vertical-align: top;\n",
       "    }\n",
       "\n",
       "    .dataframe thead th {\n",
       "        text-align: right;\n",
       "    }\n",
       "</style>\n",
       "<table border=\"1\" class=\"dataframe\">\n",
       "  <thead>\n",
       "    <tr style=\"text-align: right;\">\n",
       "      <th></th>\n",
       "      <th>Maas</th>\n",
       "      <th>Yas</th>\n",
       "      <th>Calisma Saati</th>\n",
       "    </tr>\n",
       "  </thead>\n",
       "  <tbody>\n",
       "    <tr>\n",
       "      <th>Zeynep</th>\n",
       "      <td>NaN</td>\n",
       "      <td>-0.280878</td>\n",
       "      <td>NaN</td>\n",
       "    </tr>\n",
       "    <tr>\n",
       "      <th>Büşra</th>\n",
       "      <td>-1.343618</td>\n",
       "      <td>-0.527741</td>\n",
       "      <td>NaN</td>\n",
       "    </tr>\n",
       "    <tr>\n",
       "      <th>Ali</th>\n",
       "      <td>NaN</td>\n",
       "      <td>-1.630044</td>\n",
       "      <td>-0.356579</td>\n",
       "    </tr>\n",
       "    <tr>\n",
       "      <th>Mehmet</th>\n",
       "      <td>-0.299895</td>\n",
       "      <td>NaN</td>\n",
       "      <td>NaN</td>\n",
       "    </tr>\n",
       "  </tbody>\n",
       "</table>\n",
       "</div>"
      ],
      "text/plain": [
       "            Maas       Yas  Calisma Saati\n",
       "Zeynep       NaN -0.280878            NaN\n",
       "Büşra  -1.343618 -0.527741            NaN\n",
       "Ali          NaN -1.630044      -0.356579\n",
       "Mehmet -0.299895       NaN            NaN"
      ]
     },
     "execution_count": 29,
     "metadata": {},
     "output_type": "execute_result"
    }
   ],
   "source": [
    "newDataFrame[booleanFrame]"
   ]
  },
  {
   "cell_type": "code",
   "execution_count": 30,
   "metadata": {},
   "outputs": [
    {
     "data": {
      "text/html": [
       "<div>\n",
       "<style scoped>\n",
       "    .dataframe tbody tr th:only-of-type {\n",
       "        vertical-align: middle;\n",
       "    }\n",
       "\n",
       "    .dataframe tbody tr th {\n",
       "        vertical-align: top;\n",
       "    }\n",
       "\n",
       "    .dataframe thead th {\n",
       "        text-align: right;\n",
       "    }\n",
       "</style>\n",
       "<table border=\"1\" class=\"dataframe\">\n",
       "  <thead>\n",
       "    <tr style=\"text-align: right;\">\n",
       "      <th></th>\n",
       "      <th>Maas</th>\n",
       "      <th>Yas</th>\n",
       "      <th>Calisma Saati</th>\n",
       "    </tr>\n",
       "  </thead>\n",
       "  <tbody>\n",
       "    <tr>\n",
       "      <th>Zeynep</th>\n",
       "      <td>NaN</td>\n",
       "      <td>-0.280878</td>\n",
       "      <td>NaN</td>\n",
       "    </tr>\n",
       "    <tr>\n",
       "      <th>Büşra</th>\n",
       "      <td>-1.343618</td>\n",
       "      <td>-0.527741</td>\n",
       "      <td>NaN</td>\n",
       "    </tr>\n",
       "    <tr>\n",
       "      <th>Ali</th>\n",
       "      <td>NaN</td>\n",
       "      <td>-1.630044</td>\n",
       "      <td>-0.356579</td>\n",
       "    </tr>\n",
       "    <tr>\n",
       "      <th>Mehmet</th>\n",
       "      <td>-0.299895</td>\n",
       "      <td>NaN</td>\n",
       "      <td>NaN</td>\n",
       "    </tr>\n",
       "  </tbody>\n",
       "</table>\n",
       "</div>"
      ],
      "text/plain": [
       "            Maas       Yas  Calisma Saati\n",
       "Zeynep       NaN -0.280878            NaN\n",
       "Büşra  -1.343618 -0.527741            NaN\n",
       "Ali          NaN -1.630044      -0.356579\n",
       "Mehmet -0.299895       NaN            NaN"
      ]
     },
     "execution_count": 30,
     "metadata": {},
     "output_type": "execute_result"
    }
   ],
   "source": [
    "newDataFrame[newDataFrame < 0]"
   ]
  },
  {
   "cell_type": "code",
   "execution_count": 31,
   "metadata": {},
   "outputs": [
    {
     "data": {
      "text/html": [
       "<div>\n",
       "<style scoped>\n",
       "    .dataframe tbody tr th:only-of-type {\n",
       "        vertical-align: middle;\n",
       "    }\n",
       "\n",
       "    .dataframe tbody tr th {\n",
       "        vertical-align: top;\n",
       "    }\n",
       "\n",
       "    .dataframe thead th {\n",
       "        text-align: right;\n",
       "    }\n",
       "</style>\n",
       "<table border=\"1\" class=\"dataframe\">\n",
       "  <thead>\n",
       "    <tr style=\"text-align: right;\">\n",
       "      <th></th>\n",
       "      <th>Maas</th>\n",
       "      <th>Yas</th>\n",
       "      <th>Calisma Saati</th>\n",
       "    </tr>\n",
       "  </thead>\n",
       "  <tbody>\n",
       "    <tr>\n",
       "      <th>Mehmet</th>\n",
       "      <td>-0.299895</td>\n",
       "      <td>0.33272</td>\n",
       "      <td>1.161201</td>\n",
       "    </tr>\n",
       "  </tbody>\n",
       "</table>\n",
       "</div>"
      ],
      "text/plain": [
       "            Maas      Yas  Calisma Saati\n",
       "Mehmet -0.299895  0.33272       1.161201"
      ]
     },
     "execution_count": 31,
     "metadata": {},
     "output_type": "execute_result"
    }
   ],
   "source": [
    "newDataFrame[newDataFrame[\"Yas\"] > 0]"
   ]
  },
  {
   "cell_type": "code",
   "execution_count": 32,
   "metadata": {},
   "outputs": [
    {
     "data": {
      "text/html": [
       "<div>\n",
       "<style scoped>\n",
       "    .dataframe tbody tr th:only-of-type {\n",
       "        vertical-align: middle;\n",
       "    }\n",
       "\n",
       "    .dataframe tbody tr th {\n",
       "        vertical-align: top;\n",
       "    }\n",
       "\n",
       "    .dataframe thead th {\n",
       "        text-align: right;\n",
       "    }\n",
       "</style>\n",
       "<table border=\"1\" class=\"dataframe\">\n",
       "  <thead>\n",
       "    <tr style=\"text-align: right;\">\n",
       "      <th></th>\n",
       "      <th>Maas</th>\n",
       "      <th>Yas</th>\n",
       "      <th>Calisma Saati</th>\n",
       "    </tr>\n",
       "  </thead>\n",
       "  <tbody>\n",
       "    <tr>\n",
       "      <th>Zeynep</th>\n",
       "      <td>0.460875</td>\n",
       "      <td>-0.280878</td>\n",
       "      <td>1.472354</td>\n",
       "    </tr>\n",
       "    <tr>\n",
       "      <th>Büşra</th>\n",
       "      <td>-1.343618</td>\n",
       "      <td>-0.527741</td>\n",
       "      <td>0.724126</td>\n",
       "    </tr>\n",
       "    <tr>\n",
       "      <th>Ali</th>\n",
       "      <td>0.593157</td>\n",
       "      <td>-1.630044</td>\n",
       "      <td>-0.356579</td>\n",
       "    </tr>\n",
       "    <tr>\n",
       "      <th>Mehmet</th>\n",
       "      <td>-0.299895</td>\n",
       "      <td>0.332720</td>\n",
       "      <td>1.161201</td>\n",
       "    </tr>\n",
       "  </tbody>\n",
       "</table>\n",
       "</div>"
      ],
      "text/plain": [
       "            Maas       Yas  Calisma Saati\n",
       "Zeynep  0.460875 -0.280878       1.472354\n",
       "Büşra  -1.343618 -0.527741       0.724126\n",
       "Ali     0.593157 -1.630044      -0.356579\n",
       "Mehmet -0.299895  0.332720       1.161201"
      ]
     },
     "execution_count": 32,
     "metadata": {},
     "output_type": "execute_result"
    }
   ],
   "source": [
    "newDataFrame"
   ]
  },
  {
   "cell_type": "code",
   "execution_count": 33,
   "metadata": {},
   "outputs": [
    {
     "data": {
      "text/html": [
       "<div>\n",
       "<style scoped>\n",
       "    .dataframe tbody tr th:only-of-type {\n",
       "        vertical-align: middle;\n",
       "    }\n",
       "\n",
       "    .dataframe tbody tr th {\n",
       "        vertical-align: top;\n",
       "    }\n",
       "\n",
       "    .dataframe thead th {\n",
       "        text-align: right;\n",
       "    }\n",
       "</style>\n",
       "<table border=\"1\" class=\"dataframe\">\n",
       "  <thead>\n",
       "    <tr style=\"text-align: right;\">\n",
       "      <th></th>\n",
       "      <th>index</th>\n",
       "      <th>Maas</th>\n",
       "      <th>Yas</th>\n",
       "      <th>Calisma Saati</th>\n",
       "    </tr>\n",
       "  </thead>\n",
       "  <tbody>\n",
       "    <tr>\n",
       "      <th>0</th>\n",
       "      <td>Zeynep</td>\n",
       "      <td>0.460875</td>\n",
       "      <td>-0.280878</td>\n",
       "      <td>1.472354</td>\n",
       "    </tr>\n",
       "    <tr>\n",
       "      <th>1</th>\n",
       "      <td>Büşra</td>\n",
       "      <td>-1.343618</td>\n",
       "      <td>-0.527741</td>\n",
       "      <td>0.724126</td>\n",
       "    </tr>\n",
       "    <tr>\n",
       "      <th>2</th>\n",
       "      <td>Ali</td>\n",
       "      <td>0.593157</td>\n",
       "      <td>-1.630044</td>\n",
       "      <td>-0.356579</td>\n",
       "    </tr>\n",
       "    <tr>\n",
       "      <th>3</th>\n",
       "      <td>Mehmet</td>\n",
       "      <td>-0.299895</td>\n",
       "      <td>0.332720</td>\n",
       "      <td>1.161201</td>\n",
       "    </tr>\n",
       "  </tbody>\n",
       "</table>\n",
       "</div>"
      ],
      "text/plain": [
       "    index      Maas       Yas  Calisma Saati\n",
       "0  Zeynep  0.460875 -0.280878       1.472354\n",
       "1   Büşra -1.343618 -0.527741       0.724126\n",
       "2     Ali  0.593157 -1.630044      -0.356579\n",
       "3  Mehmet -0.299895  0.332720       1.161201"
      ]
     },
     "execution_count": 33,
     "metadata": {},
     "output_type": "execute_result"
    }
   ],
   "source": [
    "newDataFrame.reset_index()"
   ]
  },
  {
   "cell_type": "code",
   "execution_count": 34,
   "metadata": {},
   "outputs": [
    {
     "data": {
      "text/html": [
       "<div>\n",
       "<style scoped>\n",
       "    .dataframe tbody tr th:only-of-type {\n",
       "        vertical-align: middle;\n",
       "    }\n",
       "\n",
       "    .dataframe tbody tr th {\n",
       "        vertical-align: top;\n",
       "    }\n",
       "\n",
       "    .dataframe thead th {\n",
       "        text-align: right;\n",
       "    }\n",
       "</style>\n",
       "<table border=\"1\" class=\"dataframe\">\n",
       "  <thead>\n",
       "    <tr style=\"text-align: right;\">\n",
       "      <th></th>\n",
       "      <th>Maas</th>\n",
       "      <th>Yas</th>\n",
       "      <th>Calisma Saati</th>\n",
       "    </tr>\n",
       "  </thead>\n",
       "  <tbody>\n",
       "    <tr>\n",
       "      <th>Zeynep</th>\n",
       "      <td>0.460875</td>\n",
       "      <td>-0.280878</td>\n",
       "      <td>1.472354</td>\n",
       "    </tr>\n",
       "    <tr>\n",
       "      <th>Büşra</th>\n",
       "      <td>-1.343618</td>\n",
       "      <td>-0.527741</td>\n",
       "      <td>0.724126</td>\n",
       "    </tr>\n",
       "    <tr>\n",
       "      <th>Ali</th>\n",
       "      <td>0.593157</td>\n",
       "      <td>-1.630044</td>\n",
       "      <td>-0.356579</td>\n",
       "    </tr>\n",
       "    <tr>\n",
       "      <th>Mehmet</th>\n",
       "      <td>-0.299895</td>\n",
       "      <td>0.332720</td>\n",
       "      <td>1.161201</td>\n",
       "    </tr>\n",
       "  </tbody>\n",
       "</table>\n",
       "</div>"
      ],
      "text/plain": [
       "            Maas       Yas  Calisma Saati\n",
       "Zeynep  0.460875 -0.280878       1.472354\n",
       "Büşra  -1.343618 -0.527741       0.724126\n",
       "Ali     0.593157 -1.630044      -0.356579\n",
       "Mehmet -0.299895  0.332720       1.161201"
      ]
     },
     "execution_count": 34,
     "metadata": {},
     "output_type": "execute_result"
    }
   ],
   "source": [
    "newDataFrame"
   ]
  },
  {
   "cell_type": "code",
   "execution_count": 35,
   "metadata": {},
   "outputs": [],
   "source": [
    "indexList = [\"Zey\",\"Büş\",\"Ali\",\"Meh\"]"
   ]
  },
  {
   "cell_type": "code",
   "execution_count": 36,
   "metadata": {},
   "outputs": [],
   "source": [
    "newDataFrame[\"Yeni Index\"] = indexList"
   ]
  },
  {
   "cell_type": "code",
   "execution_count": 37,
   "metadata": {},
   "outputs": [
    {
     "data": {
      "text/html": [
       "<div>\n",
       "<style scoped>\n",
       "    .dataframe tbody tr th:only-of-type {\n",
       "        vertical-align: middle;\n",
       "    }\n",
       "\n",
       "    .dataframe tbody tr th {\n",
       "        vertical-align: top;\n",
       "    }\n",
       "\n",
       "    .dataframe thead th {\n",
       "        text-align: right;\n",
       "    }\n",
       "</style>\n",
       "<table border=\"1\" class=\"dataframe\">\n",
       "  <thead>\n",
       "    <tr style=\"text-align: right;\">\n",
       "      <th></th>\n",
       "      <th>Maas</th>\n",
       "      <th>Yas</th>\n",
       "      <th>Calisma Saati</th>\n",
       "      <th>Yeni Index</th>\n",
       "    </tr>\n",
       "  </thead>\n",
       "  <tbody>\n",
       "    <tr>\n",
       "      <th>Zeynep</th>\n",
       "      <td>0.460875</td>\n",
       "      <td>-0.280878</td>\n",
       "      <td>1.472354</td>\n",
       "      <td>Zey</td>\n",
       "    </tr>\n",
       "    <tr>\n",
       "      <th>Büşra</th>\n",
       "      <td>-1.343618</td>\n",
       "      <td>-0.527741</td>\n",
       "      <td>0.724126</td>\n",
       "      <td>Büş</td>\n",
       "    </tr>\n",
       "    <tr>\n",
       "      <th>Ali</th>\n",
       "      <td>0.593157</td>\n",
       "      <td>-1.630044</td>\n",
       "      <td>-0.356579</td>\n",
       "      <td>Ali</td>\n",
       "    </tr>\n",
       "    <tr>\n",
       "      <th>Mehmet</th>\n",
       "      <td>-0.299895</td>\n",
       "      <td>0.332720</td>\n",
       "      <td>1.161201</td>\n",
       "      <td>Meh</td>\n",
       "    </tr>\n",
       "  </tbody>\n",
       "</table>\n",
       "</div>"
      ],
      "text/plain": [
       "            Maas       Yas  Calisma Saati Yeni Index\n",
       "Zeynep  0.460875 -0.280878       1.472354        Zey\n",
       "Büşra  -1.343618 -0.527741       0.724126        Büş\n",
       "Ali     0.593157 -1.630044      -0.356579        Ali\n",
       "Mehmet -0.299895  0.332720       1.161201        Meh"
      ]
     },
     "execution_count": 37,
     "metadata": {},
     "output_type": "execute_result"
    }
   ],
   "source": [
    "newDataFrame"
   ]
  },
  {
   "cell_type": "code",
   "execution_count": 38,
   "metadata": {},
   "outputs": [
    {
     "data": {
      "text/html": [
       "<div>\n",
       "<style scoped>\n",
       "    .dataframe tbody tr th:only-of-type {\n",
       "        vertical-align: middle;\n",
       "    }\n",
       "\n",
       "    .dataframe tbody tr th {\n",
       "        vertical-align: top;\n",
       "    }\n",
       "\n",
       "    .dataframe thead th {\n",
       "        text-align: right;\n",
       "    }\n",
       "</style>\n",
       "<table border=\"1\" class=\"dataframe\">\n",
       "  <thead>\n",
       "    <tr style=\"text-align: right;\">\n",
       "      <th></th>\n",
       "      <th>Maas</th>\n",
       "      <th>Yas</th>\n",
       "      <th>Calisma Saati</th>\n",
       "    </tr>\n",
       "    <tr>\n",
       "      <th>Yeni Index</th>\n",
       "      <th></th>\n",
       "      <th></th>\n",
       "      <th></th>\n",
       "    </tr>\n",
       "  </thead>\n",
       "  <tbody>\n",
       "    <tr>\n",
       "      <th>Zey</th>\n",
       "      <td>0.460875</td>\n",
       "      <td>-0.280878</td>\n",
       "      <td>1.472354</td>\n",
       "    </tr>\n",
       "    <tr>\n",
       "      <th>Büş</th>\n",
       "      <td>-1.343618</td>\n",
       "      <td>-0.527741</td>\n",
       "      <td>0.724126</td>\n",
       "    </tr>\n",
       "    <tr>\n",
       "      <th>Ali</th>\n",
       "      <td>0.593157</td>\n",
       "      <td>-1.630044</td>\n",
       "      <td>-0.356579</td>\n",
       "    </tr>\n",
       "    <tr>\n",
       "      <th>Meh</th>\n",
       "      <td>-0.299895</td>\n",
       "      <td>0.332720</td>\n",
       "      <td>1.161201</td>\n",
       "    </tr>\n",
       "  </tbody>\n",
       "</table>\n",
       "</div>"
      ],
      "text/plain": [
       "                Maas       Yas  Calisma Saati\n",
       "Yeni Index                                   \n",
       "Zey         0.460875 -0.280878       1.472354\n",
       "Büş        -1.343618 -0.527741       0.724126\n",
       "Ali         0.593157 -1.630044      -0.356579\n",
       "Meh        -0.299895  0.332720       1.161201"
      ]
     },
     "execution_count": 38,
     "metadata": {},
     "output_type": "execute_result"
    }
   ],
   "source": [
    "newDataFrame.set_index(\"Yeni Index\")"
   ]
  },
  {
   "cell_type": "code",
   "execution_count": 39,
   "metadata": {},
   "outputs": [
    {
     "data": {
      "text/html": [
       "<div>\n",
       "<style scoped>\n",
       "    .dataframe tbody tr th:only-of-type {\n",
       "        vertical-align: middle;\n",
       "    }\n",
       "\n",
       "    .dataframe tbody tr th {\n",
       "        vertical-align: top;\n",
       "    }\n",
       "\n",
       "    .dataframe thead th {\n",
       "        text-align: right;\n",
       "    }\n",
       "</style>\n",
       "<table border=\"1\" class=\"dataframe\">\n",
       "  <thead>\n",
       "    <tr style=\"text-align: right;\">\n",
       "      <th></th>\n",
       "      <th>Maas</th>\n",
       "      <th>Yas</th>\n",
       "      <th>Calisma Saati</th>\n",
       "      <th>Yeni Index</th>\n",
       "    </tr>\n",
       "  </thead>\n",
       "  <tbody>\n",
       "    <tr>\n",
       "      <th>Zeynep</th>\n",
       "      <td>0.460875</td>\n",
       "      <td>-0.280878</td>\n",
       "      <td>1.472354</td>\n",
       "      <td>Zey</td>\n",
       "    </tr>\n",
       "    <tr>\n",
       "      <th>Büşra</th>\n",
       "      <td>-1.343618</td>\n",
       "      <td>-0.527741</td>\n",
       "      <td>0.724126</td>\n",
       "      <td>Büş</td>\n",
       "    </tr>\n",
       "    <tr>\n",
       "      <th>Ali</th>\n",
       "      <td>0.593157</td>\n",
       "      <td>-1.630044</td>\n",
       "      <td>-0.356579</td>\n",
       "      <td>Ali</td>\n",
       "    </tr>\n",
       "    <tr>\n",
       "      <th>Mehmet</th>\n",
       "      <td>-0.299895</td>\n",
       "      <td>0.332720</td>\n",
       "      <td>1.161201</td>\n",
       "      <td>Meh</td>\n",
       "    </tr>\n",
       "  </tbody>\n",
       "</table>\n",
       "</div>"
      ],
      "text/plain": [
       "            Maas       Yas  Calisma Saati Yeni Index\n",
       "Zeynep  0.460875 -0.280878       1.472354        Zey\n",
       "Büşra  -1.343618 -0.527741       0.724126        Büş\n",
       "Ali     0.593157 -1.630044      -0.356579        Ali\n",
       "Mehmet -0.299895  0.332720       1.161201        Meh"
      ]
     },
     "execution_count": 39,
     "metadata": {},
     "output_type": "execute_result"
    }
   ],
   "source": [
    "newDataFrame"
   ]
  },
  {
   "cell_type": "code",
   "execution_count": 40,
   "metadata": {},
   "outputs": [],
   "source": [
    "newDataFrame.set_index(\"Yeni Index\", inplace=True)"
   ]
  },
  {
   "cell_type": "code",
   "execution_count": 41,
   "metadata": {},
   "outputs": [
    {
     "data": {
      "text/html": [
       "<div>\n",
       "<style scoped>\n",
       "    .dataframe tbody tr th:only-of-type {\n",
       "        vertical-align: middle;\n",
       "    }\n",
       "\n",
       "    .dataframe tbody tr th {\n",
       "        vertical-align: top;\n",
       "    }\n",
       "\n",
       "    .dataframe thead th {\n",
       "        text-align: right;\n",
       "    }\n",
       "</style>\n",
       "<table border=\"1\" class=\"dataframe\">\n",
       "  <thead>\n",
       "    <tr style=\"text-align: right;\">\n",
       "      <th></th>\n",
       "      <th>Maas</th>\n",
       "      <th>Yas</th>\n",
       "      <th>Calisma Saati</th>\n",
       "    </tr>\n",
       "    <tr>\n",
       "      <th>Yeni Index</th>\n",
       "      <th></th>\n",
       "      <th></th>\n",
       "      <th></th>\n",
       "    </tr>\n",
       "  </thead>\n",
       "  <tbody>\n",
       "    <tr>\n",
       "      <th>Zey</th>\n",
       "      <td>0.460875</td>\n",
       "      <td>-0.280878</td>\n",
       "      <td>1.472354</td>\n",
       "    </tr>\n",
       "    <tr>\n",
       "      <th>Büş</th>\n",
       "      <td>-1.343618</td>\n",
       "      <td>-0.527741</td>\n",
       "      <td>0.724126</td>\n",
       "    </tr>\n",
       "    <tr>\n",
       "      <th>Ali</th>\n",
       "      <td>0.593157</td>\n",
       "      <td>-1.630044</td>\n",
       "      <td>-0.356579</td>\n",
       "    </tr>\n",
       "    <tr>\n",
       "      <th>Meh</th>\n",
       "      <td>-0.299895</td>\n",
       "      <td>0.332720</td>\n",
       "      <td>1.161201</td>\n",
       "    </tr>\n",
       "  </tbody>\n",
       "</table>\n",
       "</div>"
      ],
      "text/plain": [
       "                Maas       Yas  Calisma Saati\n",
       "Yeni Index                                   \n",
       "Zey         0.460875 -0.280878       1.472354\n",
       "Büş        -1.343618 -0.527741       0.724126\n",
       "Ali         0.593157 -1.630044      -0.356579\n",
       "Meh        -0.299895  0.332720       1.161201"
      ]
     },
     "execution_count": 41,
     "metadata": {},
     "output_type": "execute_result"
    }
   ],
   "source": [
    "newDataFrame"
   ]
  },
  {
   "cell_type": "code",
   "execution_count": 42,
   "metadata": {},
   "outputs": [
    {
     "data": {
      "text/plain": [
       "Maas            -1.343618\n",
       "Yas             -0.527741\n",
       "Calisma Saati    0.724126\n",
       "Name: Büş, dtype: float64"
      ]
     },
     "execution_count": 42,
     "metadata": {},
     "output_type": "execute_result"
    }
   ],
   "source": [
    "newDataFrame.loc[\"Büş\"]"
   ]
  },
  {
   "cell_type": "code",
   "execution_count": 54,
   "metadata": {},
   "outputs": [],
   "source": [
    "firstIndex=[\"Simpson\",\"Simpson\", \"Simpson\",\"South Park\",\"South Park\",\"South Park\",\"South Park\"]"
   ]
  },
  {
   "cell_type": "code",
   "execution_count": 60,
   "metadata": {},
   "outputs": [],
   "source": [
    "innerIndex = [\"Homer\",\"Bart\",\"Marge\",\"Cartman\",\"Kenny\",\"Kyle\"]"
   ]
  },
  {
   "cell_type": "code",
   "execution_count": 61,
   "metadata": {},
   "outputs": [],
   "source": [
    "unifyIndex = list(zip(firstIndex,innerIndex))"
   ]
  },
  {
   "cell_type": "code",
   "execution_count": 62,
   "metadata": {},
   "outputs": [
    {
     "data": {
      "text/plain": [
       "[('Simpson', 'Homer'),\n",
       " ('Simpson', 'Bart'),\n",
       " ('Simpson', 'Marge'),\n",
       " ('South Park', 'Cartman'),\n",
       " ('South Park', 'Kenny'),\n",
       " ('South Park', 'Kyle')]"
      ]
     },
     "execution_count": 62,
     "metadata": {},
     "output_type": "execute_result"
    }
   ],
   "source": [
    "unifyIndex"
   ]
  },
  {
   "cell_type": "code",
   "execution_count": 63,
   "metadata": {},
   "outputs": [],
   "source": [
    "unifyIndex = pd.MultiIndex.from_tuples(unifyIndex)"
   ]
  },
  {
   "cell_type": "code",
   "execution_count": 64,
   "metadata": {},
   "outputs": [
    {
     "data": {
      "text/plain": [
       "MultiIndex([(   'Simpson',   'Homer'),\n",
       "            (   'Simpson',    'Bart'),\n",
       "            (   'Simpson',   'Marge'),\n",
       "            ('South Park', 'Cartman'),\n",
       "            ('South Park',   'Kenny'),\n",
       "            ('South Park',    'Kyle')],\n",
       "           )"
      ]
     },
     "execution_count": 64,
     "metadata": {},
     "output_type": "execute_result"
    }
   ],
   "source": [
    "unifyIndex"
   ]
  },
  {
   "cell_type": "code",
   "execution_count": 49,
   "metadata": {},
   "outputs": [
    {
     "data": {
      "text/plain": [
       "pandas.core.indexes.multi.MultiIndex"
      ]
     },
     "execution_count": 49,
     "metadata": {},
     "output_type": "execute_result"
    }
   ],
   "source": [
    "type(unifyIndex)"
   ]
  },
  {
   "cell_type": "code",
   "execution_count": 65,
   "metadata": {},
   "outputs": [],
   "source": [
    "animatedCartoonList=[[40,\"A\"],[10,\"B\"],[30,\"C\"],[9,\"D\"],[10,\"E\"],[11,\"F\"]]"
   ]
  },
  {
   "cell_type": "code",
   "execution_count": 67,
   "metadata": {},
   "outputs": [],
   "source": [
    "animatedCartoonNumpyList = np.array(animatedCartoonList)"
   ]
  },
  {
   "cell_type": "code",
   "execution_count": 69,
   "metadata": {},
   "outputs": [],
   "source": [
    "cartoonDataFrame = pd.DataFrame(animatedCartoonNumpyList, index=unifyIndex,columns=[\"Yas\",\"Meslek\"])"
   ]
  },
  {
   "cell_type": "code",
   "execution_count": 70,
   "metadata": {},
   "outputs": [
    {
     "data": {
      "text/html": [
       "<div>\n",
       "<style scoped>\n",
       "    .dataframe tbody tr th:only-of-type {\n",
       "        vertical-align: middle;\n",
       "    }\n",
       "\n",
       "    .dataframe tbody tr th {\n",
       "        vertical-align: top;\n",
       "    }\n",
       "\n",
       "    .dataframe thead th {\n",
       "        text-align: right;\n",
       "    }\n",
       "</style>\n",
       "<table border=\"1\" class=\"dataframe\">\n",
       "  <thead>\n",
       "    <tr style=\"text-align: right;\">\n",
       "      <th></th>\n",
       "      <th></th>\n",
       "      <th>Yas</th>\n",
       "      <th>Meslek</th>\n",
       "    </tr>\n",
       "  </thead>\n",
       "  <tbody>\n",
       "    <tr>\n",
       "      <th rowspan=\"3\" valign=\"top\">Simpson</th>\n",
       "      <th>Homer</th>\n",
       "      <td>40</td>\n",
       "      <td>A</td>\n",
       "    </tr>\n",
       "    <tr>\n",
       "      <th>Bart</th>\n",
       "      <td>10</td>\n",
       "      <td>B</td>\n",
       "    </tr>\n",
       "    <tr>\n",
       "      <th>Marge</th>\n",
       "      <td>30</td>\n",
       "      <td>C</td>\n",
       "    </tr>\n",
       "    <tr>\n",
       "      <th rowspan=\"3\" valign=\"top\">South Park</th>\n",
       "      <th>Cartman</th>\n",
       "      <td>9</td>\n",
       "      <td>D</td>\n",
       "    </tr>\n",
       "    <tr>\n",
       "      <th>Kenny</th>\n",
       "      <td>10</td>\n",
       "      <td>E</td>\n",
       "    </tr>\n",
       "    <tr>\n",
       "      <th>Kyle</th>\n",
       "      <td>11</td>\n",
       "      <td>F</td>\n",
       "    </tr>\n",
       "  </tbody>\n",
       "</table>\n",
       "</div>"
      ],
      "text/plain": [
       "                   Yas Meslek\n",
       "Simpson    Homer    40      A\n",
       "           Bart     10      B\n",
       "           Marge    30      C\n",
       "South Park Cartman   9      D\n",
       "           Kenny    10      E\n",
       "           Kyle     11      F"
      ]
     },
     "execution_count": 70,
     "metadata": {},
     "output_type": "execute_result"
    }
   ],
   "source": [
    "cartoonDataFrame"
   ]
  },
  {
   "cell_type": "code",
   "execution_count": 71,
   "metadata": {},
   "outputs": [
    {
     "data": {
      "text/html": [
       "<div>\n",
       "<style scoped>\n",
       "    .dataframe tbody tr th:only-of-type {\n",
       "        vertical-align: middle;\n",
       "    }\n",
       "\n",
       "    .dataframe tbody tr th {\n",
       "        vertical-align: top;\n",
       "    }\n",
       "\n",
       "    .dataframe thead th {\n",
       "        text-align: right;\n",
       "    }\n",
       "</style>\n",
       "<table border=\"1\" class=\"dataframe\">\n",
       "  <thead>\n",
       "    <tr style=\"text-align: right;\">\n",
       "      <th></th>\n",
       "      <th>Yas</th>\n",
       "      <th>Meslek</th>\n",
       "    </tr>\n",
       "  </thead>\n",
       "  <tbody>\n",
       "    <tr>\n",
       "      <th>Homer</th>\n",
       "      <td>40</td>\n",
       "      <td>A</td>\n",
       "    </tr>\n",
       "    <tr>\n",
       "      <th>Bart</th>\n",
       "      <td>10</td>\n",
       "      <td>B</td>\n",
       "    </tr>\n",
       "    <tr>\n",
       "      <th>Marge</th>\n",
       "      <td>30</td>\n",
       "      <td>C</td>\n",
       "    </tr>\n",
       "  </tbody>\n",
       "</table>\n",
       "</div>"
      ],
      "text/plain": [
       "      Yas Meslek\n",
       "Homer  40      A\n",
       "Bart   10      B\n",
       "Marge  30      C"
      ]
     },
     "execution_count": 71,
     "metadata": {},
     "output_type": "execute_result"
    }
   ],
   "source": [
    "cartoonDataFrame.loc[\"Simpson\"]"
   ]
  },
  {
   "cell_type": "code",
   "execution_count": 72,
   "metadata": {},
   "outputs": [
    {
     "data": {
      "text/html": [
       "<div>\n",
       "<style scoped>\n",
       "    .dataframe tbody tr th:only-of-type {\n",
       "        vertical-align: middle;\n",
       "    }\n",
       "\n",
       "    .dataframe tbody tr th {\n",
       "        vertical-align: top;\n",
       "    }\n",
       "\n",
       "    .dataframe thead th {\n",
       "        text-align: right;\n",
       "    }\n",
       "</style>\n",
       "<table border=\"1\" class=\"dataframe\">\n",
       "  <thead>\n",
       "    <tr style=\"text-align: right;\">\n",
       "      <th></th>\n",
       "      <th>Yas</th>\n",
       "      <th>Meslek</th>\n",
       "    </tr>\n",
       "  </thead>\n",
       "  <tbody>\n",
       "    <tr>\n",
       "      <th>Cartman</th>\n",
       "      <td>9</td>\n",
       "      <td>D</td>\n",
       "    </tr>\n",
       "    <tr>\n",
       "      <th>Kenny</th>\n",
       "      <td>10</td>\n",
       "      <td>E</td>\n",
       "    </tr>\n",
       "    <tr>\n",
       "      <th>Kyle</th>\n",
       "      <td>11</td>\n",
       "      <td>F</td>\n",
       "    </tr>\n",
       "  </tbody>\n",
       "</table>\n",
       "</div>"
      ],
      "text/plain": [
       "        Yas Meslek\n",
       "Cartman   9      D\n",
       "Kenny    10      E\n",
       "Kyle     11      F"
      ]
     },
     "execution_count": 72,
     "metadata": {},
     "output_type": "execute_result"
    }
   ],
   "source": [
    "cartoonDataFrame.loc[\"South Park\"]"
   ]
  },
  {
   "cell_type": "code",
   "execution_count": 73,
   "metadata": {},
   "outputs": [
    {
     "data": {
      "text/plain": [
       "Yas       10\n",
       "Meslek     E\n",
       "Name: Kenny, dtype: object"
      ]
     },
     "execution_count": 73,
     "metadata": {},
     "output_type": "execute_result"
    }
   ],
   "source": [
    "cartoonDataFrame.loc[\"South Park\"].loc[\"Kenny\"]"
   ]
  },
  {
   "cell_type": "code",
   "execution_count": 74,
   "metadata": {},
   "outputs": [],
   "source": [
    "cartoonDataFrame.index.names = [\"Film Name\",\"Name\"]"
   ]
  },
  {
   "cell_type": "code",
   "execution_count": 75,
   "metadata": {},
   "outputs": [
    {
     "data": {
      "text/html": [
       "<div>\n",
       "<style scoped>\n",
       "    .dataframe tbody tr th:only-of-type {\n",
       "        vertical-align: middle;\n",
       "    }\n",
       "\n",
       "    .dataframe tbody tr th {\n",
       "        vertical-align: top;\n",
       "    }\n",
       "\n",
       "    .dataframe thead th {\n",
       "        text-align: right;\n",
       "    }\n",
       "</style>\n",
       "<table border=\"1\" class=\"dataframe\">\n",
       "  <thead>\n",
       "    <tr style=\"text-align: right;\">\n",
       "      <th></th>\n",
       "      <th></th>\n",
       "      <th>Yas</th>\n",
       "      <th>Meslek</th>\n",
       "    </tr>\n",
       "    <tr>\n",
       "      <th>Film Name</th>\n",
       "      <th>Name</th>\n",
       "      <th></th>\n",
       "      <th></th>\n",
       "    </tr>\n",
       "  </thead>\n",
       "  <tbody>\n",
       "    <tr>\n",
       "      <th rowspan=\"3\" valign=\"top\">Simpson</th>\n",
       "      <th>Homer</th>\n",
       "      <td>40</td>\n",
       "      <td>A</td>\n",
       "    </tr>\n",
       "    <tr>\n",
       "      <th>Bart</th>\n",
       "      <td>10</td>\n",
       "      <td>B</td>\n",
       "    </tr>\n",
       "    <tr>\n",
       "      <th>Marge</th>\n",
       "      <td>30</td>\n",
       "      <td>C</td>\n",
       "    </tr>\n",
       "    <tr>\n",
       "      <th rowspan=\"3\" valign=\"top\">South Park</th>\n",
       "      <th>Cartman</th>\n",
       "      <td>9</td>\n",
       "      <td>D</td>\n",
       "    </tr>\n",
       "    <tr>\n",
       "      <th>Kenny</th>\n",
       "      <td>10</td>\n",
       "      <td>E</td>\n",
       "    </tr>\n",
       "    <tr>\n",
       "      <th>Kyle</th>\n",
       "      <td>11</td>\n",
       "      <td>F</td>\n",
       "    </tr>\n",
       "  </tbody>\n",
       "</table>\n",
       "</div>"
      ],
      "text/plain": [
       "                   Yas Meslek\n",
       "Film Name  Name              \n",
       "Simpson    Homer    40      A\n",
       "           Bart     10      B\n",
       "           Marge    30      C\n",
       "South Park Cartman   9      D\n",
       "           Kenny    10      E\n",
       "           Kyle     11      F"
      ]
     },
     "execution_count": 75,
     "metadata": {},
     "output_type": "execute_result"
    }
   ],
   "source": [
    "cartoonDataFrame"
   ]
  },
  {
   "cell_type": "code",
   "execution_count": null,
   "metadata": {},
   "outputs": [],
   "source": []
  }
 ],
 "metadata": {
  "kernelspec": {
   "display_name": "Python 3",
   "language": "python",
   "name": "python3"
  },
  "language_info": {
   "codemirror_mode": {
    "name": "ipython",
    "version": 3
   },
   "file_extension": ".py",
   "mimetype": "text/x-python",
   "name": "python",
   "nbconvert_exporter": "python",
   "pygments_lexer": "ipython3",
   "version": "3.8.3"
  }
 },
 "nbformat": 4,
 "nbformat_minor": 4
}
