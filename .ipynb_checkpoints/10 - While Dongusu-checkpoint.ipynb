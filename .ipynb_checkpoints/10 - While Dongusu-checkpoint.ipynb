{
 "cells": [
  {
   "cell_type": "code",
   "execution_count": 11,
   "metadata": {},
   "outputs": [
    {
     "name": "stdout",
     "output_type": "stream",
     "text": [
      "0\n",
      "1\n",
      "2\n",
      "3\n",
      "4\n",
      "5\n",
      "6\n",
      "7\n",
      "8\n",
      "9\n"
     ]
    }
   ],
   "source": [
    "x = 0\n",
    "\n",
    "while x < 10:\n",
    "   print(x)\n",
    "   x = x+1"
   ]
  },
  {
   "cell_type": "code",
   "execution_count": 39,
   "metadata": {},
   "outputs": [],
   "source": [
    "benimListem = [1,2,3,4,5]"
   ]
  },
  {
   "cell_type": "code",
   "execution_count": 40,
   "metadata": {},
   "outputs": [
    {
     "data": {
      "text/plain": [
       "5"
      ]
     },
     "execution_count": 40,
     "metadata": {},
     "output_type": "execute_result"
    }
   ],
   "source": [
    "benimListem.pop()"
   ]
  },
  {
   "cell_type": "code",
   "execution_count": 41,
   "metadata": {},
   "outputs": [
    {
     "data": {
      "text/plain": [
       "[1, 2, 3, 4]"
      ]
     },
     "execution_count": 41,
     "metadata": {},
     "output_type": "execute_result"
    }
   ],
   "source": [
    "benimListem"
   ]
  },
  {
   "cell_type": "code",
   "execution_count": 42,
   "metadata": {},
   "outputs": [],
   "source": [
    "benimListem.append(5)"
   ]
  },
  {
   "cell_type": "code",
   "execution_count": 43,
   "metadata": {},
   "outputs": [
    {
     "data": {
      "text/plain": [
       "[1, 2, 3, 4, 5]"
      ]
     },
     "execution_count": 43,
     "metadata": {},
     "output_type": "execute_result"
    }
   ],
   "source": [
    "benimListem"
   ]
  },
  {
   "cell_type": "code",
   "execution_count": 44,
   "metadata": {},
   "outputs": [
    {
     "data": {
      "text/plain": [
       "True"
      ]
     },
     "execution_count": 44,
     "metadata": {},
     "output_type": "execute_result"
    }
   ],
   "source": [
    "3 in benimListem"
   ]
  },
  {
   "cell_type": "code",
   "execution_count": 45,
   "metadata": {},
   "outputs": [
    {
     "name": "stdout",
     "output_type": "stream",
     "text": [
      "3 listenin içerisinde\n",
      "3 listenin içerisinde\n",
      "3 listenin içerisinde\n"
     ]
    }
   ],
   "source": [
    " while 3 in benimListem:\n",
    "        print(\"3 listenin içerisinde\")\n",
    "        benimListem.pop()"
   ]
  },
  {
   "cell_type": "code",
   "execution_count": 47,
   "metadata": {},
   "outputs": [
    {
     "name": "stdout",
     "output_type": "stream",
     "text": [
      "0\n",
      "1\n",
      "2\n",
      "3\n"
     ]
    }
   ],
   "source": [
    "num = 0\n",
    "\n",
    "while ( num < 5):\n",
    "    if num == 4:\n",
    "        break\n",
    "    print(num)\n",
    "    num = num + 1\n"
   ]
  },
  {
   "cell_type": "markdown",
   "metadata": {},
   "source": [
    "String içerisinde süslü parantezlerle aşağıdaki şekildeki gibi kod yazabiliriz."
   ]
  },
  {
   "cell_type": "code",
   "execution_count": 62,
   "metadata": {},
   "outputs": [
    {
     "name": "stdout",
     "output_type": "stream",
     "text": [
      "Yeni değişkenin güncel değeri : 2\n",
      "yeni degis: 0\n",
      "Yeni değişkenin güncel değeri : 3\n",
      "yeni degis: 1\n",
      "Yeni değişkenin güncel değeri : 4\n",
      "yeni degis: 2\n",
      "Yeni değişkenin güncel değeri : 5\n",
      "yeni degis: 3\n",
      "Yeni değişkenin güncel değeri : 6\n",
      "yeni degis: 4\n",
      "Yeni değişkenin güncel değeri : 7\n",
      "yeni degis: 5\n",
      "Yeni değişkenin güncel değeri : 8\n",
      "yeni degis: 6\n",
      "Yeni değişkenin güncel değeri : 9\n",
      "yeni degis: 7\n",
      "Yeni değişkenin güncel değeri : 10\n",
      "yeni degis: 8\n",
      "Yeni değişkenin güncel değeri : 11\n",
      "yeni degis: 9\n",
      "Yeni değişkenin güncel değeri : 12\n",
      "yeni degis: 10\n",
      "Yeni değişkenin güncel değeri : 13\n",
      "yeni degis: 11\n",
      "Yeni değişkenin güncel değeri : 14\n",
      "yeni degis: 12\n",
      "Yeni değişkenin güncel değeri : 15\n",
      "yeni degis: 13\n",
      "Yeni değişkenin güncel değeri : 16\n",
      "yeni degis: 14\n"
     ]
    }
   ],
   "source": [
    "yeniDegisken = 0\n",
    "\n",
    "while yeniDegisken < 15 :\n",
    "    #print(\"Yeni değişkenin güncel değeri : \" + str(yeniDegisken))\n",
    "    print(f\"Yeni değişkenin güncel değeri : {yeniDegisken+2}\")\n",
    "    yeniDegisken += 1"
   ]
  }
 ],
 "metadata": {
  "kernelspec": {
   "display_name": "Python 3",
   "language": "python",
   "name": "python3"
  },
  "language_info": {
   "codemirror_mode": {
    "name": "ipython",
    "version": 3
   },
   "file_extension": ".py",
   "mimetype": "text/x-python",
   "name": "python",
   "nbconvert_exporter": "python",
   "pygments_lexer": "ipython3",
   "version": "3.8.3"
  }
 },
 "nbformat": 4,
 "nbformat_minor": 4
}
