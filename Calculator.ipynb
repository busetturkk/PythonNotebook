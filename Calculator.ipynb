{
 "cells": [
  {
   "cell_type": "code",
   "execution_count": null,
   "metadata": {},
   "outputs": [
    {
     "name": "stdout",
     "output_type": "stream",
     "text": [
      "İlk sayıyı giriniz: 10\n",
      "İkinci sayıyı giriniz: 20\n",
      "İşleminizi seçiniz: +,-,*,/*\n",
      "10 * 20 = 200\n",
      "İlk sayıyı giriniz: i\n",
      "Lütfen bir sayı giriniz\n",
      "İlk sayıyı giriniz: 10\n",
      "İkinci sayıyı giriniz: k\n",
      "Lütfen bir sayı giriniz\n",
      "İlk sayıyı giriniz: 10\n",
      "İkinci sayıyı giriniz: 20\n",
      "İşleminizi seçiniz: +,-,*,/,\n",
      "Lütfen şu işlemlerden birini seçiniz: +, -, *, /\n",
      "Lütfen bir sayı giriniz\n"
     ]
    }
   ],
   "source": [
    "def hesapla(a,b,islem):\n",
    "    \n",
    "    if islem not in \"+-*/\":\n",
    "        return \"Lütfen şu işlemlerden birini seçiniz: +, -, *, /\"\n",
    "    \n",
    "    if islem == \"+\":\n",
    "        return (str(a)+\" + \"+str(b)+ \" = \"+ str(a+b))\n",
    "    \n",
    "    if islem == \"-\":\n",
    "        return (str(a)+\" - \"+str(b)+ \" = \"+ str(a-b))\n",
    "    if islem == \"*\":\n",
    "        return (str(a)+\" * \"+str(b)+ \" = \"+ str(a*b))\n",
    "    if islem == \"/\":\n",
    "        return (str(a)+\" / \"+str(b)+ \" = \"+ str(a/b))\n",
    "    \n",
    "    \n",
    "while True:\n",
    "    try:\n",
    "        a = int(input(\"İlk sayıyı giriniz: \"))\n",
    "        b = int(input(\"İkinci sayıyı giriniz: \"))\n",
    "        islem = input(\"İşleminizi seçiniz: +,-,*,/\")\n",
    "\n",
    "        print(hesapla(a,b,islem))\n",
    "    \n",
    "    except:\n",
    "        print(\"Lütfen bir sayı giriniz\")\n",
    "    "
   ]
  },
  {
   "cell_type": "code",
   "execution_count": null,
   "metadata": {},
   "outputs": [],
   "source": []
  }
 ],
 "metadata": {
  "kernelspec": {
   "display_name": "Python 3",
   "language": "python",
   "name": "python3"
  },
  "language_info": {
   "codemirror_mode": {
    "name": "ipython",
    "version": 3
   },
   "file_extension": ".py",
   "mimetype": "text/x-python",
   "name": "python",
   "nbconvert_exporter": "python",
   "pygments_lexer": "ipython3",
   "version": "3.8.3"
  }
 },
 "nbformat": 4,
 "nbformat_minor": 4
}
